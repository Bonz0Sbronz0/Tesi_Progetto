{
 "cells": [
  {
   "cell_type": "code",
   "execution_count": 2,
   "metadata": {},
   "outputs": [
    {
     "name": "stdout",
     "output_type": "stream",
     "text": [
      "loading Roboflow workspace...\n",
      "loading Roboflow project...\n"
     ]
    }
   ],
   "source": [
    "#with augmentation\n",
    "\n",
    "from roboflow import Roboflow\n",
    "rf = Roboflow(api_key=\"ZTzee7iwgMLWTZmM6vST\")\n",
    "project = rf.workspace(\"bonzosbronz0\").project(\"terrorist-2\")\n",
    "version = project.version(1)\n",
    "dataset = version.download(\"yolov11\")                "
   ]
  },
  {
   "cell_type": "code",
   "execution_count": 2,
   "metadata": {},
   "outputs": [
    {
     "name": "stdout",
     "output_type": "stream",
     "text": [
      "loading Roboflow workspace...\n",
      "loading Roboflow project...\n"
     ]
    }
   ],
   "source": [
    "#without augmentation\n",
    "\n",
    "from roboflow import Roboflow\n",
    "rf = Roboflow(api_key=\"ZTzee7iwgMLWTZmM6vST\")\n",
    "project = rf.workspace(\"bonzosbronz0\").project(\"terrorist-2\")\n",
    "version = project.version(2)\n",
    "dataset = version.download(\"yolov11\")\n",
    "                "
   ]
  },
  {
   "cell_type": "code",
   "execution_count": 3,
   "metadata": {},
   "outputs": [
    {
     "data": {
      "text/plain": [
       "'/home/poli/Tesi_Progetto/dataset_terroristi/terrorist-2-1'"
      ]
     },
     "execution_count": 3,
     "metadata": {},
     "output_type": "execute_result"
    }
   ],
   "source": [
    "dataset.location"
   ]
  },
  {
   "cell_type": "code",
   "execution_count": 8,
   "metadata": {},
   "outputs": [
    {
     "name": "stdout",
     "output_type": "stream",
     "text": [
      "Ultralytics 8.3.48 🚀 Python-3.11.2 torch-2.5.1+cu124 CUDA:0 (NVIDIA RTX A5500, 24142MiB)\n",
      "\u001b[34m\u001b[1mengine/trainer: \u001b[0mtask=segment, mode=train, model=yolo11s-seg.pt, data=/home/poli/Tesi_Progetto/dataset_terroristi/terrorist-2-1/data.yaml, epochs=100, time=None, patience=10, batch=16, imgsz=640, save=True, save_period=-1, cache=disk, device=0, workers=8, project=None, name=train2, exist_ok=False, pretrained=True, optimizer=auto, verbose=True, seed=0, deterministic=True, single_cls=False, rect=False, cos_lr=False, close_mosaic=10, resume=False, amp=True, fraction=1.0, profile=False, freeze=None, multi_scale=False, overlap_mask=True, mask_ratio=4, dropout=0.0, val=True, split=val, save_json=False, save_hybrid=False, conf=None, iou=0.7, max_det=300, half=False, dnn=False, plots=True, source=None, vid_stride=1, stream_buffer=False, visualize=False, augment=False, agnostic_nms=False, classes=None, retina_masks=False, embed=None, show=False, save_frames=False, save_txt=False, save_conf=False, save_crop=False, show_labels=True, show_conf=True, show_boxes=True, line_width=None, format=torchscript, keras=False, optimize=False, int8=False, dynamic=False, simplify=True, opset=None, workspace=None, nms=False, lr0=0.01, lrf=0.01, momentum=0.937, weight_decay=0.0005, warmup_epochs=3.0, warmup_momentum=0.8, warmup_bias_lr=0.1, box=7.5, cls=0.5, dfl=1.5, pose=12.0, kobj=1.0, nbs=64, hsv_h=0.0, hsv_s=0.0, hsv_v=0.0, degrees=0.0, translate=0.0, scale=0.0, shear=0.0, perspective=0.0, flipud=0.0, fliplr=0.0, bgr=0.0, mosaic=0.0, mixup=0.0, copy_paste=0.0, copy_paste_mode=flip, auto_augment=randaugment, erasing=0.0, crop_fraction=1.0, cfg=None, tracker=botsort.yaml, save_dir=runs/segment/train2\n",
      "WARNING: All log messages before absl::InitializeLog() is called are written to STDERR\n",
      "E0000 00:00:1733835212.853758   38341 cuda_dnn.cc:8310] Unable to register cuDNN factory: Attempting to register factory for plugin cuDNN when one has already been registered\n",
      "E0000 00:00:1733835212.856158   38341 cuda_blas.cc:1418] Unable to register cuBLAS factory: Attempting to register factory for plugin cuBLAS when one has already been registered\n",
      "Overriding model.yaml nc=80 with nc=2\n",
      "\n",
      "                   from  n    params  module                                       arguments                     \n",
      "  0                  -1  1       928  ultralytics.nn.modules.conv.Conv             [3, 32, 3, 2]                 \n",
      "  1                  -1  1     18560  ultralytics.nn.modules.conv.Conv             [32, 64, 3, 2]                \n",
      "  2                  -1  1     26080  ultralytics.nn.modules.block.C3k2            [64, 128, 1, False, 0.25]     \n",
      "  3                  -1  1    147712  ultralytics.nn.modules.conv.Conv             [128, 128, 3, 2]              \n",
      "  4                  -1  1    103360  ultralytics.nn.modules.block.C3k2            [128, 256, 1, False, 0.25]    \n",
      "  5                  -1  1    590336  ultralytics.nn.modules.conv.Conv             [256, 256, 3, 2]              \n",
      "  6                  -1  1    346112  ultralytics.nn.modules.block.C3k2            [256, 256, 1, True]           \n",
      "  7                  -1  1   1180672  ultralytics.nn.modules.conv.Conv             [256, 512, 3, 2]              \n",
      "  8                  -1  1   1380352  ultralytics.nn.modules.block.C3k2            [512, 512, 1, True]           \n",
      "  9                  -1  1    656896  ultralytics.nn.modules.block.SPPF            [512, 512, 5]                 \n",
      " 10                  -1  1    990976  ultralytics.nn.modules.block.C2PSA           [512, 512, 1]                 \n",
      " 11                  -1  1         0  torch.nn.modules.upsampling.Upsample         [None, 2, 'nearest']          \n",
      " 12             [-1, 6]  1         0  ultralytics.nn.modules.conv.Concat           [1]                           \n",
      " 13                  -1  1    443776  ultralytics.nn.modules.block.C3k2            [768, 256, 1, False]          \n",
      " 14                  -1  1         0  torch.nn.modules.upsampling.Upsample         [None, 2, 'nearest']          \n",
      " 15             [-1, 4]  1         0  ultralytics.nn.modules.conv.Concat           [1]                           \n",
      " 16                  -1  1    127680  ultralytics.nn.modules.block.C3k2            [512, 128, 1, False]          \n",
      " 17                  -1  1    147712  ultralytics.nn.modules.conv.Conv             [128, 128, 3, 2]              \n",
      " 18            [-1, 13]  1         0  ultralytics.nn.modules.conv.Concat           [1]                           \n",
      " 19                  -1  1    345472  ultralytics.nn.modules.block.C3k2            [384, 256, 1, False]          \n",
      " 20                  -1  1    590336  ultralytics.nn.modules.conv.Conv             [256, 256, 3, 2]              \n",
      " 21            [-1, 10]  1         0  ultralytics.nn.modules.conv.Concat           [1]                           \n",
      " 22                  -1  1   1511424  ultralytics.nn.modules.block.C3k2            [768, 512, 1, True]           \n",
      " 23        [16, 19, 22]  1   1474678  ultralytics.nn.modules.head.Segment          [2, 32, 128, [128, 256, 512]] \n",
      "YOLO11s-seg summary: 355 layers, 10,083,062 parameters, 10,083,046 gradients, 35.6 GFLOPs\n",
      "\n",
      "Transferred 555/561 items from pretrained weights\n",
      "\u001b[34m\u001b[1mTensorBoard: \u001b[0mStart with 'tensorboard --logdir runs/segment/train2', view at http://localhost:6006/\n",
      "Freezing layer 'model.23.dfl.conv.weight'\n",
      "\u001b[34m\u001b[1mAMP: \u001b[0mrunning Automatic Mixed Precision (AMP) checks...\n",
      "\u001b[34m\u001b[1mAMP: \u001b[0mchecks passed ✅\n",
      "\u001b[34m\u001b[1mtrain: \u001b[0mScanning /home/poli/Tesi_Progetto/dataset_terroristi/terrorist-2-1/train/\u001b[0m\n",
      "\u001b[34m\u001b[1mtrain: \u001b[0mNew cache created: /home/poli/Tesi_Progetto/dataset_terroristi/terrorist-2-1/train/labels.cache\n",
      "\u001b[34m\u001b[1mtrain: \u001b[0mCaching images (3.0GB Disk): 100%|██████████| 2589/2589 [00:00<00:00, 536\u001b[0m\n",
      "\u001b[34m\u001b[1malbumentations: \u001b[0mBlur(p=0.01, blur_limit=(3, 7)), MedianBlur(p=0.01, blur_limit=(3, 7)), ToGray(p=0.01, num_output_channels=3, method='weighted_average'), CLAHE(p=0.01, clip_limit=(1.0, 4.0), tile_grid_size=(8, 8))\n",
      "\u001b[34m\u001b[1mval: \u001b[0mScanning /home/poli/Tesi_Progetto/dataset_terroristi/terrorist-2-1/valid/la\u001b[0m\n",
      "\u001b[34m\u001b[1mval: \u001b[0mNew cache created: /home/poli/Tesi_Progetto/dataset_terroristi/terrorist-2-1/valid/labels.cache\n",
      "\u001b[34m\u001b[1mval: \u001b[0mCaching images (0.3GB Disk): 100%|██████████| 219/219 [00:00<00:00, 3238.54\u001b[0m\n",
      "Plotting labels to runs/segment/train2/labels.jpg... \n",
      "^C\n",
      "\n",
      "\u001b[34m\u001b[1moptimizer:\u001b[0m 'optimizer=auto' found, ignoring 'lr0=0.01' and 'momentum=0.937' and determining best 'optimizer', 'lr0' and 'momentum' automatically... \n",
      "\u001b[34m\u001b[1moptimizer:\u001b[0m AdamW(lr=0.001667, momentum=0.9) with parameter groups 90 weight(decay=0.0), 101 weight(decay=0.0005), 100 bias(decay=0.0)\n",
      "Exception in thread Thread-49 (_pin_memory_loop):\n",
      "Traceback (most recent call last):\n",
      "  File \"/usr/lib/python3.11/threading.py\", line 1038, in _bootstrap_inner\n",
      "    self.run()\n",
      "  File \"/usr/lib/python3.11/threading.py\", line 975, in run\n",
      "    self._target(*self._args, **self._kwargs)\n",
      "  File \"/home/poli/Tesi_Progetto/yolo/lib/python3.11/site-packages/torch/utils/data/_utils/pin_memory.py\", line 59, in _pin_memory_loop\n",
      "    do_one_step()\n",
      "  File \"/home/poli/Tesi_Progetto/yolo/lib/python3.11/site-packages/torch/utils/data/_utils/pin_memory.py\", line 35, in do_one_step\n"
     ]
    }
   ],
   "source": [
    "!yolo task=segment mode=train model='yolo11s-seg.pt' data={dataset.location}/data.yaml epochs=100 plots=True cache='disk'  device=0 patience=10 augment=False imgsz=640 hsv_h=0.0 hsv_s=0.0 hsv_v=0.0 degrees=0.0 translate=0.0 scale=0.0 shear=0.0 perspective=0.0 flipud=0.0 fliplr=0.0 mosaic=0.0 mixup=0.0 copy_paste=0.0 erasing=0.0"
   ]
  },
  {
   "cell_type": "code",
   "execution_count": null,
   "metadata": {},
   "outputs": [
    {
     "name": "stdout",
     "output_type": "stream",
     "text": [
      "Ultralytics 8.3.48 🚀 Python-3.11.2 torch-2.5.1+cu124 CUDA:0 (NVIDIA RTX A5500, 24142MiB)\n",
      "\u001b[34m\u001b[1mengine/trainer: \u001b[0mtask=segment, mode=train, model=yolo11s-seg.pt, data=/home/poli/Tesi_Progetto/dataset_terroristi/terrorist-2-2/data.yaml, epochs=100, time=None, patience=100, batch=16, imgsz=640, save=True, save_period=-1, cache=disk, device=None, workers=8, project=None, name=train3, exist_ok=False, pretrained=True, optimizer=auto, verbose=True, seed=0, deterministic=True, single_cls=False, rect=False, cos_lr=False, close_mosaic=10, resume=False, amp=True, fraction=1.0, profile=False, freeze=None, multi_scale=False, overlap_mask=True, mask_ratio=4, dropout=0.0, val=True, split=test, save_json=False, save_hybrid=False, conf=None, iou=0.7, max_det=300, half=False, dnn=False, plots=True, source=None, vid_stride=1, stream_buffer=False, visualize=False, augment=False, agnostic_nms=False, classes=None, retina_masks=False, embed=None, show=False, save_frames=False, save_txt=False, save_conf=False, save_crop=False, show_labels=True, show_conf=True, show_boxes=True, line_width=None, format=torchscript, keras=False, optimize=False, int8=False, dynamic=False, simplify=True, opset=None, workspace=None, nms=False, lr0=0.01, lrf=0.01, momentum=0.937, weight_decay=0.0005, warmup_epochs=3.0, warmup_momentum=0.8, warmup_bias_lr=0.1, box=7.5, cls=0.5, dfl=1.5, pose=12.0, kobj=1.0, nbs=64, hsv_h=0.015, hsv_s=0.7, hsv_v=0.4, degrees=0.0, translate=0.1, scale=0.5, shear=0.0, perspective=0.0, flipud=0.0, fliplr=0.5, bgr=0.0, mosaic=1.0, mixup=0.0, copy_paste=0.0, copy_paste_mode=flip, auto_augment=randaugment, erasing=0.4, crop_fraction=1.0, cfg=None, tracker=botsort.yaml, save_dir=runs/segment/train3\n",
      "WARNING: All log messages before absl::InitializeLog() is called are written to STDERR\n",
      "E0000 00:00:1733832707.324314   36703 cuda_dnn.cc:8310] Unable to register cuDNN factory: Attempting to register factory for plugin cuDNN when one has already been registered\n",
      "E0000 00:00:1733832707.326716   36703 cuda_blas.cc:1418] Unable to register cuBLAS factory: Attempting to register factory for plugin cuBLAS when one has already been registered\n",
      "Overriding model.yaml nc=80 with nc=2\n",
      "\n",
      "                   from  n    params  module                                       arguments                     \n",
      "  0                  -1  1       928  ultralytics.nn.modules.conv.Conv             [3, 32, 3, 2]                 \n",
      "  1                  -1  1     18560  ultralytics.nn.modules.conv.Conv             [32, 64, 3, 2]                \n",
      "  2                  -1  1     26080  ultralytics.nn.modules.block.C3k2            [64, 128, 1, False, 0.25]     \n",
      "  3                  -1  1    147712  ultralytics.nn.modules.conv.Conv             [128, 128, 3, 2]              \n",
      "  4                  -1  1    103360  ultralytics.nn.modules.block.C3k2            [128, 256, 1, False, 0.25]    \n",
      "  5                  -1  1    590336  ultralytics.nn.modules.conv.Conv             [256, 256, 3, 2]              \n",
      "  6                  -1  1    346112  ultralytics.nn.modules.block.C3k2            [256, 256, 1, True]           \n",
      "  7                  -1  1   1180672  ultralytics.nn.modules.conv.Conv             [256, 512, 3, 2]              \n",
      "  8                  -1  1   1380352  ultralytics.nn.modules.block.C3k2            [512, 512, 1, True]           \n",
      "  9                  -1  1    656896  ultralytics.nn.modules.block.SPPF            [512, 512, 5]                 \n",
      " 10                  -1  1    990976  ultralytics.nn.modules.block.C2PSA           [512, 512, 1]                 \n",
      " 11                  -1  1         0  torch.nn.modules.upsampling.Upsample         [None, 2, 'nearest']          \n",
      " 12             [-1, 6]  1         0  ultralytics.nn.modules.conv.Concat           [1]                           \n",
      " 13                  -1  1    443776  ultralytics.nn.modules.block.C3k2            [768, 256, 1, False]          \n",
      " 14                  -1  1         0  torch.nn.modules.upsampling.Upsample         [None, 2, 'nearest']          \n",
      " 15             [-1, 4]  1         0  ultralytics.nn.modules.conv.Concat           [1]                           \n",
      " 16                  -1  1    127680  ultralytics.nn.modules.block.C3k2            [512, 128, 1, False]          \n",
      " 17                  -1  1    147712  ultralytics.nn.modules.conv.Conv             [128, 128, 3, 2]              \n",
      " 18            [-1, 13]  1         0  ultralytics.nn.modules.conv.Concat           [1]                           \n",
      " 19                  -1  1    345472  ultralytics.nn.modules.block.C3k2            [384, 256, 1, False]          \n",
      " 20                  -1  1    590336  ultralytics.nn.modules.conv.Conv             [256, 256, 3, 2]              \n",
      " 21            [-1, 10]  1         0  ultralytics.nn.modules.conv.Concat           [1]                           \n",
      "^C\n",
      "Traceback (most recent call last):\n",
      "  File \"/home/poli/Tesi_Progetto/yolo/bin/yolo\", line 8, in <module>\n",
      "    sys.exit(entrypoint())\n",
      "             ^^^^^^^^^^^^\n",
      "  File \"/home/poli/Tesi_Progetto/yolo/lib/python3.11/site-packages/ultralytics/cfg/__init__.py\", line 972, in entrypoint\n",
      "    getattr(model, mode)(**overrides)  # default args from model\n",
      "    ^^^^^^^^^^^^^^^^^^^^^^^^^^^^^^^^^\n",
      "  File \"/home/poli/Tesi_Progetto/yolo/lib/python3.11/site-packages/ultralytics/engine/model.py\", line 802, in train\n",
      "    self.trainer.model = self.trainer.get_model(weights=self.model if self.ckpt else None, cfg=self.model.yaml)\n",
      "                         ^^^^^^^^^^^^^^^^^^^^^^^^^^^^^^^^^^^^^^^^^^^^^^^^^^^^^^^^^^^^^^^^^^^^^^^^^^^^^^^^^^^^^^\n",
      "  File \"/home/poli/Tesi_Progetto/yolo/lib/python3.11/site-packages/ultralytics/models/yolo/segment/train.py\", line 34, in get_model\n",
      "    model = SegmentationModel(cfg, ch=3, nc=self.data[\"nc\"], verbose=verbose and RANK == -1)\n",
      "            ^^^^^^^^^^^^^^^^^^^^^^^^^^^^^^^^^^^^^^^^^^^^^^^^^^^^^^^^^^^^^^^^^^^^^^^^^^^^^^^^\n",
      "  File \"/home/poli/Tesi_Progetto/yolo/lib/python3.11/site-packages/ultralytics/nn/tasks.py\", line 409, in __init__\n",
      "    super().__init__(cfg=cfg, ch=ch, nc=nc, verbose=verbose)\n",
      "  File \"/home/poli/Tesi_Progetto/yolo/lib/python3.11/site-packages/ultralytics/nn/tasks.py\", line 336, in __init__\n",
      "    m.stride = torch.tensor([s / x.shape[-2] for x in _forward(torch.zeros(1, ch, s, s))])  # forward\n",
      "                                                      ^^^^^^^^^^^^^^^^^^^^^^^^^^^^^^^^^^\n",
      "  File \"/home/poli/Tesi_Progetto/yolo/lib/python3.11/site-packages/ultralytics/nn/tasks.py\", line 334, in _forward\n",
      "    return self.forward(x)[0] if isinstance(m, (Segment, Pose, OBB)) else self.forward(x)\n",
      "           ^^^^^^^^^^^^^^^\n",
      "  File \"/home/poli/Tesi_Progetto/yolo/lib/python3.11/site-packages/ultralytics/nn/tasks.py\", line 112, in forward\n",
      "    return self.predict(x, *args, **kwargs)\n",
      "           ^^^^^^^^^^^^^^^^^^^^^^^^^^^^^^^^\n",
      "  File \"/home/poli/Tesi_Progetto/yolo/lib/python3.11/site-packages/ultralytics/nn/tasks.py\", line 130, in predict\n",
      "    return self._predict_once(x, profile, visualize, embed)\n",
      "           ^^^^^^^^^^^^^^^^^^^^^^^^^^^^^^^^^^^^^^^^^^^^^^^^\n",
      "  File \"/home/poli/Tesi_Progetto/yolo/lib/python3.11/site-packages/ultralytics/nn/tasks.py\", line 151, in _predict_once\n",
      "    x = m(x)  # run\n",
      "        ^^^^\n",
      "  File \"/home/poli/Tesi_Progetto/yolo/lib/python3.11/site-packages/torch/nn/modules/module.py\", line 1736, in _wrapped_call_impl\n",
      "    return self._call_impl(*args, **kwargs)\n",
      "           ^^^^^^^^^^^^^^^^^^^^^^^^^^^^^^^^\n",
      "  File \"/home/poli/Tesi_Progetto/yolo/lib/python3.11/site-packages/torch/nn/modules/module.py\", line 1747, in _call_impl\n",
      "    return forward_call(*args, **kwargs)\n",
      "           ^^^^^^^^^^^^^^^^^^^^^^^^^^^^^\n",
      "  File \"/home/poli/Tesi_Progetto/yolo/lib/python3.11/site-packages/ultralytics/nn/modules/head.py\", line 194, in forward\n",
      "    x = Detect.forward(self, x)\n",
      "        ^^^^^^^^^^^^^^^^^^^^^^^\n",
      "  File \"/home/poli/Tesi_Progetto/yolo/lib/python3.11/site-packages/ultralytics/nn/modules/head.py\", line 70, in forward\n",
      "    x[i] = torch.cat((self.cv2[i](x[i]), self.cv3[i](x[i])), 1)\n",
      "                      ^^^^^^^^^^^^^^^^^\n",
      "  File \"/home/poli/Tesi_Progetto/yolo/lib/python3.11/site-packages/torch/nn/modules/module.py\", line 1736, in _wrapped_call_impl\n",
      "    return self._call_impl(*args, **kwargs)\n",
      "           ^^^^^^^^^^^^^^^^^^^^^^^^^^^^^^^^\n",
      "  File \"/home/poli/Tesi_Progetto/yolo/lib/python3.11/site-packages/torch/nn/modules/module.py\", line 1747, in _call_impl\n",
      "    return forward_call(*args, **kwargs)\n",
      "           ^^^^^^^^^^^^^^^^^^^^^^^^^^^^^\n",
      "  File \"/home/poli/Tesi_Progetto/yolo/lib/python3.11/site-packages/torch/nn/modules/container.py\", line 250, in forward\n",
      "    input = module(input)\n",
      "            ^^^^^^^^^^^^^\n",
      "  File \"/home/poli/Tesi_Progetto/yolo/lib/python3.11/site-packages/torch/nn/modules/module.py\", line 1736, in _wrapped_call_impl\n",
      "    return self._call_impl(*args, **kwargs)\n",
      "           ^^^^^^^^^^^^^^^^^^^^^^^^^^^^^^^^\n",
      "  File \"/home/poli/Tesi_Progetto/yolo/lib/python3.11/site-packages/torch/nn/modules/module.py\", line 1747, in _call_impl\n",
      "    return forward_call(*args, **kwargs)\n",
      "           ^^^^^^^^^^^^^^^^^^^^^^^^^^^^^\n",
      "  File \"/home/poli/Tesi_Progetto/yolo/lib/python3.11/site-packages/ultralytics/nn/modules/conv.py\", line 50, in forward\n",
      "    return self.act(self.bn(self.conv(x)))\n",
      "                    ^^^^^^^^^^^^^^^^^^^^^\n",
      "  File \"/home/poli/Tesi_Progetto/yolo/lib/python3.11/site-packages/torch/nn/modules/module.py\", line 1736, in _wrapped_call_impl\n",
      "    return self._call_impl(*args, **kwargs)\n",
      "           ^^^^^^^^^^^^^^^^^^^^^^^^^^^^^^^^\n",
      "  File \"/home/poli/Tesi_Progetto/yolo/lib/python3.11/site-packages/torch/nn/modules/module.py\", line 1747, in _call_impl\n",
      "    return forward_call(*args, **kwargs)\n",
      "           ^^^^^^^^^^^^^^^^^^^^^^^^^^^^^\n",
      "  File \"/home/poli/Tesi_Progetto/yolo/lib/python3.11/site-packages/torch/nn/modules/batchnorm.py\", line 173, in forward\n",
      "    self.num_batches_tracked.add_(1)  # type: ignore[has-type]\n",
      "    ^^^^^^^^^^^^^^^^^^^^^^^^^^^^^^^^\n",
      "KeyboardInterrupt\n"
     ]
    }
   ],
   "source": [
    "!yolo task=segment mode=train model='yolo11s-seg.pt' data={dataset.location}/data.yaml epochs=100 plots=True cache='disk'  device=0 patience=10"
   ]
  },
  {
   "cell_type": "code",
   "execution_count": 4,
   "metadata": {},
   "outputs": [
    {
     "name": "stdout",
     "output_type": "stream",
     "text": [
      "Ultralytics 8.3.48 🚀 Python-3.11.2 torch-2.5.1+cu124 CUDA:0 (NVIDIA RTX A5500, 24142MiB)\n",
      "YOLO11s-seg summary (fused): 265 layers, 10,067,590 parameters, 0 gradients, 35.3 GFLOPs\n",
      "\u001b[34m\u001b[1mval: \u001b[0mScanning /home/poli/Tesi_Progetto/dataset_terroristi/terrorist-2-1/test/lab\u001b[0m\n",
      "\u001b[34m\u001b[1mval: \u001b[0mNew cache created: /home/poli/Tesi_Progetto/dataset_terroristi/terrorist-2-1/test/labels.cache\n",
      "\u001b[34m\u001b[1mval: \u001b[0mCaching images (0.1GB Disk): 100%|██████████| 98/98 [00:00<00:00, 4712.38it\u001b[0m\n",
      "                 Class     Images  Instances      Box(P          R      mAP50  m\n",
      "                   all         98        201      0.548      0.448      0.462      0.225      0.503      0.403      0.386      0.161\n",
      "           NoTerrorist         54         93      0.721      0.516      0.638      0.324      0.681      0.483       0.56      0.236\n",
      "             Terrorist         38        108      0.376       0.38      0.285      0.126      0.325      0.324      0.212     0.0864\n",
      "Speed: 0.8ms preprocess, 3.3ms inference, 0.0ms loss, 1.0ms postprocess per image\n",
      "Results saved to \u001b[1mruns/segment/val\u001b[0m\n",
      "💡 Learn more at https://docs.ultralytics.com/modes/val\n"
     ]
    }
   ],
   "source": [
    "!yolo task=segment mode=val model=/home/poli/Tesi_Progetto/pipeline/terrorist_people/weights/best.pt data={dataset.location}/data.yaml imgsz=640 plots=True cache='disk'  device=0 split=test"
   ]
  },
  {
   "cell_type": "code",
   "execution_count": 4,
   "metadata": {},
   "outputs": [
    {
     "name": "stdout",
     "output_type": "stream",
     "text": [
      "Ultralytics 8.3.48 🚀 Python-3.11.2 torch-2.5.1+cu124 CUDA:0 (NVIDIA RTX A5500, 24142MiB)\n",
      "YOLO11s-seg summary (fused): 265 layers, 10,067,590 parameters, 0 gradients, 35.3 GFLOPs\n",
      "\u001b[34m\u001b[1mval: \u001b[0mScanning /home/poli/Tesi_Progetto/dataset_terroristi/terrorist-2-2/test/lab\u001b[0m\n",
      "\u001b[34m\u001b[1mval: \u001b[0mCaching images (0.1GB Disk): 100%|██████████| 98/98 [00:00<00:00, 77937.39i\u001b[0m\n",
      "                 Class     Images  Instances      Box(P          R      mAP50  m\n",
      "                   all         98        201      0.536      0.685      0.596      0.306      0.487      0.586      0.495      0.178\n",
      "           NoTerrorist         54         93      0.543      0.767      0.713      0.389      0.476      0.645      0.576       0.19\n",
      "             Terrorist         38        108      0.529      0.602      0.478      0.222      0.499      0.528      0.415      0.166\n",
      "Speed: 0.8ms preprocess, 3.3ms inference, 0.0ms loss, 1.1ms postprocess per image\n",
      "Results saved to \u001b[1mruns/segment/val5\u001b[0m\n",
      "💡 Learn more at https://docs.ultralytics.com/modes/val\n"
     ]
    }
   ],
   "source": [
    "!yolo task=segment mode=val model=/home/poli/Tesi_Progetto/dataset_terroristi/runs/segment/train_noaug/weights/best.pt data={dataset.location}/data.yaml imgsz=640 plots=True cache='disk'  device=0 split=test"
   ]
  },
  {
   "cell_type": "code",
   "execution_count": 5,
   "metadata": {
    "colab": {
     "base_uri": "https://localhost:8080/"
    },
    "id": "1PQjh07DqadA",
    "outputId": "d56cf038-b182-4b43-b928-8bcb2fc003b3"
   },
   "outputs": [
    {
     "name": "stdout",
     "output_type": "stream",
     "text": [
      "Ultralytics 8.3.48 🚀 Python-3.11.2 torch-2.5.1+cu124 CUDA:0 (NVIDIA RTX A5500, 24142MiB)\n",
      "YOLO11s-seg summary (fused): 265 layers, 10,067,590 parameters, 0 gradients, 35.3 GFLOPs\n",
      "\n",
      "image 1/14 /home/poli/Tesi_Progetto/dataset_armi/detect/Miliziani-Isis.jpg: 480x640 2 Terrorists, 37.6ms\n",
      "image 2/14 /home/poli/Tesi_Progetto/dataset_armi/detect/Screenshot 2024-11-13 161552.png: 384x640 1 Terrorist, 36.8ms\n",
      "image 3/14 /home/poli/Tesi_Progetto/dataset_armi/detect/Stato-Islamico-utopia-700x547.jpg: 512x640 1 Terrorist, 35.4ms\n",
      "image 4/14 /home/poli/Tesi_Progetto/dataset_armi/detect/gettyimages-1045947822-612x612.jpg: 416x640 (no detections), 35.8ms\n",
      "image 5/14 /home/poli/Tesi_Progetto/dataset_armi/detect/gettyimages-1186201215-612x612.jpg: 448x640 2 NoTerrorists, 2 Terrorists, 35.5ms\n",
      "image 6/14 /home/poli/Tesi_Progetto/dataset_armi/detect/gettyimages-1236580793-612x612.jpg: 480x640 1 NoTerrorist, 3.3ms\n",
      "image 7/14 /home/poli/Tesi_Progetto/dataset_armi/detect/gettyimages-1246615514-612x612.jpg: 448x640 2 Terrorists, 3.2ms\n",
      "image 8/14 /home/poli/Tesi_Progetto/dataset_armi/detect/gettyimages-1281703031-612x612.jpg: 448x640 1 NoTerrorist, 3.0ms\n",
      "image 9/14 /home/poli/Tesi_Progetto/dataset_armi/detect/gettyimages-1414309975-612x612.jpg: 448x640 1 NoTerrorist, 1 Terrorist, 3.0ms\n",
      "image 10/14 /home/poli/Tesi_Progetto/dataset_armi/detect/gettyimages-157402733-612x612.jpg: 448x640 1 NoTerrorist, 3.0ms\n",
      "image 11/14 /home/poli/Tesi_Progetto/dataset_armi/detect/gettyimages-455649166-612x612.jpg: 448x640 2 NoTerrorists, 3.0ms\n",
      "image 12/14 /home/poli/Tesi_Progetto/dataset_armi/detect/gettyimages-461468662-612x612.jpg: 416x640 (no detections), 3.1ms\n",
      "image 13/14 /home/poli/Tesi_Progetto/dataset_armi/detect/gettyimages-906021450-612x612.jpg: 448x640 (no detections), 3.2ms\n",
      "image 14/14 /home/poli/Tesi_Progetto/dataset_armi/detect/gettyimages-925123658-612x612.jpg: 448x640 2 Terrorists, 3.0ms\n",
      "Speed: 0.7ms preprocess, 14.9ms inference, 3.7ms postprocess per image at shape (1, 3, 448, 640)\n",
      "Results saved to \u001b[1mruns/segment/predict3\u001b[0m\n",
      "💡 Learn more at https://docs.ultralytics.com/modes/predict\n"
     ]
    }
   ],
   "source": [
    "!yolo task=segment mode=predict model=/home/poli/Tesi_Progetto/dataset_terroristi/runs/segment/train/weights/best.pt source=/home/poli/Tesi_Progetto/dataset_armi/detect conf = 0.3"
   ]
  }
 ],
 "metadata": {
  "accelerator": "GPU",
  "colab": {
   "gpuType": "T4",
   "machine_shape": "hm",
   "provenance": []
  },
  "kernelspec": {
   "display_name": "yolo",
   "language": "python",
   "name": "python3"
  },
  "language_info": {
   "codemirror_mode": {
    "name": "ipython",
    "version": 3
   },
   "file_extension": ".py",
   "mimetype": "text/x-python",
   "name": "python",
   "nbconvert_exporter": "python",
   "pygments_lexer": "ipython3",
   "version": "3.11.2"
  }
 },
 "nbformat": 4,
 "nbformat_minor": 0
}
